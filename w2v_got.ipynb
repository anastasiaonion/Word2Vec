{
 "cells": [
  {
   "cell_type": "code",
   "execution_count": 1,
   "metadata": {},
   "outputs": [
    {
     "name": "stderr",
     "output_type": "stream",
     "text": [
      "D:\\Programs\\Anaconda\\lib\\site-packages\\gensim\\utils.py:865: UserWarning: detected Windows; aliasing chunkize to chunkize_serial\n",
      "  warnings.warn(\"detected Windows; aliasing chunkize to chunkize_serial\")\n"
     ]
    }
   ],
   "source": [
    "import codecs \n",
    "import glob \n",
    "import multiprocessing \n",
    "import os \n",
    "import re \n",
    "import nltk \n",
    "import gensim.models.word2vec as w2v "
   ]
  },
  {
   "cell_type": "code",
   "execution_count": 2,
   "metadata": {},
   "outputs": [
    {
     "data": {
      "text/plain": [
       "['data\\\\got1.txt',\n",
       " 'data\\\\got2.txt',\n",
       " 'data\\\\got3.txt',\n",
       " 'data\\\\got4.txt',\n",
       " 'data\\\\got5.txt']"
      ]
     },
     "execution_count": 2,
     "metadata": {},
     "output_type": "execute_result"
    }
   ],
   "source": [
    "#Все книги\n",
    "book_filenames = sorted(glob.glob(\"data/*.txt\"))\n",
    "book_filenames"
   ]
  },
  {
   "cell_type": "code",
   "execution_count": 3,
   "metadata": {},
   "outputs": [
    {
     "name": "stdout",
     "output_type": "stream",
     "text": [
      "Считывается data\\got1.txt\n",
      "Сборка длиной 1770659\n",
      "\n",
      "Считывается data\\got2.txt\n",
      "Сборка длиной 4071041\n",
      "\n",
      "Считывается data\\got3.txt\n",
      "Сборка длиной 6391405\n",
      "\n",
      "Считывается data\\got4.txt\n",
      "Сборка длиной 8107945\n",
      "\n",
      "Считывается data\\got5.txt\n",
      "Сборка длиной 9719485\n",
      "\n"
     ]
    }
   ],
   "source": [
    "#Собираем все книги в одну большую длиннющую строку\n",
    "corpus_raw = \"\"\n",
    "for book_filename in book_filenames:\n",
    "    print('Считывается %s' % book_filename)\n",
    "    with codecs.open(book_filename,'r','utf-8') as file:\n",
    "        corpus_raw += file.read()\n",
    "    print('Сборка длиной %d' % len(corpus_raw))\n",
    "    print()"
   ]
  },
  {
   "cell_type": "code",
   "execution_count": 4,
   "metadata": {},
   "outputs": [
    {
     "name": "stdout",
     "output_type": "stream",
     "text": [
      "Всего 128868 предложений\n"
     ]
    }
   ],
   "source": [
    "#Разбиваем строку на предложения. Каждое предложение с новой строки\n",
    "tokenizer = nltk.data.load('tokenizers/punkt/english.pickle')\n",
    "raw_sentences = tokenizer.tokenize(corpus_raw)\n",
    "print('Всего %d предложений' % len(raw_sentences))"
   ]
  },
  {
   "cell_type": "code",
   "execution_count": 5,
   "metadata": {
    "collapsed": true
   },
   "outputs": [],
   "source": [
    "#Конвертируем предложения в массивы слов, убирая знаки пунктуации\n",
    "def sentence_to_wordlist(raw):\n",
    "    clean = re.sub(\"[^a-zA-Z]\",\" \", raw)\n",
    "    words = clean.split()\n",
    "    return words"
   ]
  },
  {
   "cell_type": "code",
   "execution_count": 6,
   "metadata": {
    "collapsed": true
   },
   "outputs": [],
   "source": [
    "#Проверка на пустые строки\n",
    "sentences = []\n",
    "for raw_sentence in raw_sentences:\n",
    "    if(len(raw_sentence) > 0):\n",
    "        sentences.append(sentence_to_wordlist(raw_sentence))"
   ]
  },
  {
   "cell_type": "code",
   "execution_count": 7,
   "metadata": {},
   "outputs": [
    {
     "name": "stdout",
     "output_type": "stream",
     "text": [
      "Пример:\n",
      "Предложение: Now he thought of them as old friends.\n",
      "Получаем: ['Now', 'he', 'thought', 'of', 'them', 'as', 'old', 'friends']\n"
     ]
    }
   ],
   "source": [
    "print('Пример:')\n",
    "print('Предложение:', raw_sentences[13])\n",
    "print('Получаем:', sentence_to_wordlist(raw_sentences[13]))"
   ]
  },
  {
   "cell_type": "code",
   "execution_count": 8,
   "metadata": {},
   "outputs": [
    {
     "name": "stdout",
     "output_type": "stream",
     "text": [
      "Всего 1818103 токенов\n"
     ]
    }
   ],
   "source": [
    "token_count = sum([len(sentence) for sentence in sentences])\n",
    "print('Всего %d токенов' % token_count)"
   ]
  },
  {
   "cell_type": "code",
   "execution_count": 9,
   "metadata": {
    "collapsed": true
   },
   "outputs": [],
   "source": [
    "#Размер вектора\n",
    "num_features = 300\n",
    "\n",
    "#минимальное пороговое значение\n",
    "min_word_count = 3\n",
    "\n",
    "#количество потоков\n",
    "num_workers = multiprocessing.cpu_count() #возвращает к-во ядер процессора\n",
    "\n",
    "#размер окна\n",
    "context_size = 7\n",
    "\n",
    "#Downsample setting for frequent words\n",
    "downsampling = 1e-3 #Not see too many times the most frequent words...\n",
    "\n",
    "#Seed for the randomnessss, to make results reproducible\n",
    "seed = 1"
   ]
  },
  {
   "cell_type": "code",
   "execution_count": 10,
   "metadata": {
    "collapsed": true
   },
   "outputs": [],
   "source": [
    "got2Vec = w2v.Word2Vec(sg=1,\n",
    "                           seed=seed,\n",
    "                           workers=num_workers,\n",
    "                           size=num_features,\n",
    "                           min_count=min_word_count,\n",
    "                           window=context_size,\n",
    "                           sample=downsampling\n",
    ")"
   ]
  },
  {
   "cell_type": "code",
   "execution_count": 11,
   "metadata": {
    "collapsed": true
   },
   "outputs": [],
   "source": [
    "got2Vec.build_vocab(sentences)"
   ]
  },
  {
   "cell_type": "code",
   "execution_count": 12,
   "metadata": {},
   "outputs": [
    {
     "name": "stdout",
     "output_type": "stream",
     "text": [
      "Длина словаря Word2Vec: 128868\n"
     ]
    }
   ],
   "source": [
    "print('Длина словаря Word2Vec: %d' % got2Vec.corpus_count)"
   ]
  },
  {
   "cell_type": "code",
   "execution_count": 13,
   "metadata": {},
   "outputs": [
    {
     "data": {
      "text/plain": [
       "7022448"
      ]
     },
     "execution_count": 13,
     "metadata": {},
     "output_type": "execute_result"
    }
   ],
   "source": [
    "#Тренируем модель\n",
    "got2Vec.train(sentences=sentences,total_examples=got2Vec.corpus_count,epochs=got2Vec.iter)"
   ]
  },
  {
   "cell_type": "code",
   "execution_count": 14,
   "metadata": {
    "collapsed": true
   },
   "outputs": [],
   "source": [
    "#Сохраняемся\n",
    "got2Vec.save('got2Vec.w2v')"
   ]
  },
  {
   "cell_type": "code",
   "execution_count": 15,
   "metadata": {},
   "outputs": [
    {
     "data": {
      "text/plain": [
       "[('Khal', 0.9183875322341919),\n",
       " ('khal', 0.8146138191223145),\n",
       " ('khalasar', 0.7380660772323608),\n",
       " ('bloodriders', 0.7342690229415894),\n",
       " ('Dothraki', 0.7175328731536865),\n",
       " ('Mirri', 0.7166121006011963),\n",
       " ('Maz', 0.7153828740119934),\n",
       " ('womb', 0.7110382914543152),\n",
       " ('Duur', 0.7098428010940552),\n",
       " ('Rhaego', 0.7060027122497559)]"
      ]
     },
     "execution_count": 15,
     "metadata": {},
     "output_type": "execute_result"
    }
   ],
   "source": [
    "#Близкие слова к слову \"Drogo\"\n",
    "got2Vec.most_similar(\"Drogo\")"
   ]
  },
  {
   "cell_type": "code",
   "execution_count": 16,
   "metadata": {},
   "outputs": [
    {
     "data": {
      "text/plain": [
       "'Catelyn'"
      ]
     },
     "execution_count": 16,
     "metadata": {},
     "output_type": "execute_result"
    }
   ],
   "source": [
    "#Близкое значение к словам 'Арья' и 'Бриенна'\n",
    "got2Vec.most_similar(positive=['Arya', 'Brienne'])[0][0]"
   ]
  },
  {
   "cell_type": "code",
   "execution_count": 17,
   "metadata": {},
   "outputs": [
    {
     "data": {
      "text/plain": [
       "'Daenerys'"
      ]
     },
     "execution_count": 17,
     "metadata": {},
     "output_type": "execute_result"
    }
   ],
   "source": [
    "#Лишний среди Серсеи, Тириона, Джейме и Дейнерис\n",
    "got2Vec.doesnt_match('Cersei, Jaime, Tyrion, Daenerys'.split())"
   ]
  },
  {
   "cell_type": "code",
   "execution_count": 19,
   "metadata": {},
   "outputs": [
    {
     "data": {
      "text/plain": [
       "'khal'"
      ]
     },
     "execution_count": 19,
     "metadata": {},
     "output_type": "execute_result"
    }
   ],
   "source": [
    "#Близкое значение к словам 'Дрого' и 'Дайнерис'\n",
    "got2Vec.most_similar(positive=['Khalee', 'Daenerys'])[0][0]"
   ]
  },
  {
   "cell_type": "code",
   "execution_count": null,
   "metadata": {
    "collapsed": true
   },
   "outputs": [],
   "source": []
  }
 ],
 "metadata": {
  "kernelspec": {
   "display_name": "Python 3",
   "language": "python",
   "name": "python3"
  },
  "language_info": {
   "codemirror_mode": {
    "name": "ipython",
    "version": 3
   },
   "file_extension": ".py",
   "mimetype": "text/x-python",
   "name": "python",
   "nbconvert_exporter": "python",
   "pygments_lexer": "ipython3",
   "version": "3.6.1"
  }
 },
 "nbformat": 4,
 "nbformat_minor": 2
}
